{
 "cells": [
  {
   "cell_type": "code",
   "execution_count": 1,
   "metadata": {},
   "outputs": [],
   "source": [
    "from scipy import sparse\n",
    "from tqdm.notebook import tqdm\n",
    "import numpy as np\n",
    "import csv"
   ]
  },
  {
   "cell_type": "code",
   "execution_count": 2,
   "metadata": {},
   "outputs": [],
   "source": [
    "class FactorizationMachine:\n",
    "    def __init__(self, feature_dim: int, latent_size=3):\n",
    "        self.w0 = np.zeros(1)\n",
    "        self.w = np.zeros(feature_dim)\n",
    "        self.V = np.zeros((feature_dim, latent_size))\n",
    "    \n",
    "    def train(self, data, epochs=5, batch_size=8, lr=1e-3, n_users=480189, n_movies=17770):\n",
    "        data_len = data.shape[0]\n",
    "        pbar = tqdm(total=data_len * epochs)\n",
    "        for epoch in range(epochs):\n",
    "            avg_loss = 0\n",
    "            for batch in self.batchify(data, batch_size):\n",
    "                x, y = self.collate_batch(batch, n_users, n_movies)\n",
    "                loss = self.step(x, y, lr)\n",
    "                avg_loss += loss\n",
    "                pbar.update(len(y))\n",
    "                pbar.set_description(f\"Epoch {epoch}; Loss {loss:.4f}\")\n",
    "            avg_loss /= (len(data) // batch_size)\n",
    "            print(f\"Epoch {epoch}; Average Loss {avg_loss:.4f}\")\n",
    "\n",
    "    def step(self, x, y, lr):\n",
    "        batch_size = x.shape[0]\n",
    "        a = x @ self.V\n",
    "        b = (x.power(2)) @ (self.V ** 2)\n",
    "        c = x.dot(self.w)\n",
    "        y_pred = self.w0 + c + 0.5 * (a ** 2 - b).sum(-1)\n",
    "        diff = (y - y_pred)\n",
    "        loss = np.mean(diff ** 2)\n",
    "        \n",
    "        dloss_dy_pred = - 2 * diff.reshape(-1, 1)\n",
    "        \n",
    "        dloss_dw0 = dloss_dy_pred.mean(axis=0)\n",
    "        dloss_dw = np.ravel(x.multiply(dloss_dy_pred).mean(axis=0))\n",
    "        \n",
    "        dloss_dV = x.multiply(dloss_dy_pred).T @ a / batch_size\n",
    "        dloss_dV = dloss_dV.T\n",
    "        x2 = x.power(2)\n",
    "        for i, row_ in enumerate(self.V.T):\n",
    "            c_ = x2.multiply(row_).multiply(dloss_dy_pred).mean(0)\n",
    "            dloss_dV[i] -= np.ravel(c_)\n",
    "        \n",
    "        self.w0 -= lr * dloss_dw0\n",
    "        self.w -= lr * dloss_dw\n",
    "        self.V -= lr * dloss_dV.T\n",
    "        \n",
    "        return loss\n",
    "    \n",
    "    def rmse_score(self, data, batch_size=8, n_users=480189, n_movies=17770):\n",
    "        data_len = data.shape[0]\n",
    "        cum_rmse = 0\n",
    "        pbar = tqdm(desc=\"Calculating RMSE\")\n",
    "        for batch in self.batchify(data, batch_size):\n",
    "            x, y = self.collate_batch(batch, n_users, n_movies)\n",
    "            y_pred = self.predict(x)\n",
    "            diff = (y - y_pred)\n",
    "            cum_rmse += np.sqrt(np.mean(diff ** 2))\n",
    "            pbar.update(len(y))\n",
    "        \n",
    "        return cum_rmse / (data_len // batch_size)\n",
    "    \n",
    "    def predict(self, x: sparse.csr_matrix):\n",
    "        a = (x @ self.V) ** 2\n",
    "        b = (x.power(2)) @ (self.V ** 2)\n",
    "        c = x.dot(self.w)\n",
    "        result = self.w0 + c + 0.5 * (a - b).sum(-1)\n",
    "        return result\n",
    "    \n",
    "    @staticmethod\n",
    "    def batchify(iterable, batch_size=32):\n",
    "        for i in range(0, len(iterable), batch_size):\n",
    "            span = slice(i, i + batch_size)\n",
    "            yield iterable[span]\n",
    "    \n",
    "    @staticmethod\n",
    "    def collate_batch(batch, n_users, n_movies):\n",
    "        y, x_data, x_i, x_j = [], [], [], []\n",
    "        users_and_movies = n_users + n_movies\n",
    "        for i, (mid, uid, rate) in enumerate(batch):\n",
    "            x_i.append(i)\n",
    "            x_j.append(uid)\n",
    "            x_data.append(1)\n",
    "            x_i.append(i)\n",
    "            x_j.append(n_users + mid)\n",
    "            x_data.append(1)\n",
    "            y.append(rate)\n",
    "        x = sparse.coo_matrix((x_data, (x_i, x_j)), shape=(len(y), users_and_movies))\n",
    "        return x.tocsr(), np.array(y)\n",
    "        "
   ]
  },
  {
   "cell_type": "code",
   "execution_count": 3,
   "metadata": {},
   "outputs": [],
   "source": [
    "def read_data(total_size=100480507):\n",
    "    data = np.empty(shape=(total_size, 3), dtype=np.int)\n",
    "\n",
    "    with open(\"data/full_data.csv\") as file:\n",
    "        reader = csv.reader(file)\n",
    "        for i, sample in tqdm(enumerate(reader), total=total_size):\n",
    "            data[i] = sample\n",
    "    \n",
    "    return data"
   ]
  },
  {
   "cell_type": "code",
   "execution_count": 4,
   "metadata": {},
   "outputs": [
    {
     "data": {
      "application/vnd.jupyter.widget-view+json": {
       "model_id": "ad6a494cc62a40f99f64b389e8f55ffe",
       "version_major": 2,
       "version_minor": 0
      },
      "text/plain": [
       "HBox(children=(FloatProgress(value=0.0, max=100480507.0), HTML(value='')))"
      ]
     },
     "metadata": {},
     "output_type": "display_data"
    },
    {
     "name": "stdout",
     "output_type": "stream",
     "text": [
      "\n"
     ]
    }
   ],
   "source": [
    "total=100480507\n",
    "n_users=480189\n",
    "n_movies=17770\n",
    "\n",
    "data = read_data()"
   ]
  },
  {
   "cell_type": "code",
   "execution_count": 5,
   "metadata": {},
   "outputs": [],
   "source": [
    "def kfold(x, k=5, shuffle=True):\n",
    "    index = np.arange(len(x))\n",
    "    if shuffle:\n",
    "        np.random.shuffle(index)\n",
    "    chunks = np.array_split(index, k)\n",
    "    for i in range(k):\n",
    "        train_index = np.concatenate(tuple(ch for j, ch in enumerate(chunks) if j != i))\n",
    "        test_index = chunks[i]\n",
    "        yield x[train_index], x[test_index]"
   ]
  },
  {
   "cell_type": "code",
   "execution_count": 6,
   "metadata": {
    "scrolled": false
   },
   "outputs": [
    {
     "name": "stdout",
     "output_type": "stream",
     "text": [
      "Training 1 fold\n"
     ]
    },
    {
     "data": {
      "application/vnd.jupyter.widget-view+json": {
       "model_id": "0e2d2bae4fdb4f0f93bcce6dc657da6e",
       "version_major": 2,
       "version_minor": 0
      },
      "text/plain": [
       "HBox(children=(FloatProgress(value=0.0, max=401922025.0), HTML(value='')))"
      ]
     },
     "metadata": {},
     "output_type": "display_data"
    },
    {
     "name": "stdout",
     "output_type": "stream",
     "text": [
      "Epoch 0; Average Loss 5.0636\n",
      "Epoch 1; Average Loss 1.3335\n",
      "Epoch 2; Average Loss 1.1844\n",
      "Epoch 3; Average Loss 1.1782\n",
      "Epoch 4; Average Loss 1.1777\n"
     ]
    },
    {
     "data": {
      "application/vnd.jupyter.widget-view+json": {
       "model_id": "e036fa1f4f994cbabd8048e715510731",
       "version_major": 2,
       "version_minor": 0
      },
      "text/plain": [
       "HBox(children=(FloatProgress(value=1.0, bar_style='info', description='Calculating RMSE', max=1.0, style=Progr…"
      ]
     },
     "metadata": {},
     "output_type": "display_data"
    },
    {
     "name": "stdout",
     "output_type": "stream",
     "text": [
      "RMSE on 1 fold: 1.0898\n",
      "\n",
      "Training 2 fold\n"
     ]
    },
    {
     "data": {
      "application/vnd.jupyter.widget-view+json": {
       "model_id": "262715fd3abc4480a997a7498fa27bb0",
       "version_major": 2,
       "version_minor": 0
      },
      "text/plain": [
       "HBox(children=(FloatProgress(value=0.0, max=401922025.0), HTML(value='')))"
      ]
     },
     "metadata": {},
     "output_type": "display_data"
    },
    {
     "name": "stdout",
     "output_type": "stream",
     "text": [
      "Epoch 0; Average Loss 5.0635\n",
      "Epoch 1; Average Loss 1.3334\n",
      "Epoch 2; Average Loss 1.1844\n",
      "Epoch 3; Average Loss 1.1782\n",
      "Epoch 4; Average Loss 1.1777\n"
     ]
    },
    {
     "data": {
      "application/vnd.jupyter.widget-view+json": {
       "model_id": "f9ab085c4987489b955beed7bf5ba2ae",
       "version_major": 2,
       "version_minor": 0
      },
      "text/plain": [
       "HBox(children=(FloatProgress(value=1.0, bar_style='info', description='Calculating RMSE', max=1.0, style=Progr…"
      ]
     },
     "metadata": {},
     "output_type": "display_data"
    },
    {
     "name": "stdout",
     "output_type": "stream",
     "text": [
      "RMSE on 2 fold: 1.0898\n",
      "\n",
      "Training 3 fold\n"
     ]
    },
    {
     "data": {
      "application/vnd.jupyter.widget-view+json": {
       "model_id": "daf5c1a692cd4b8785d7939c0fd7cecd",
       "version_major": 2,
       "version_minor": 0
      },
      "text/plain": [
       "HBox(children=(FloatProgress(value=0.0, max=401922030.0), HTML(value='')))"
      ]
     },
     "metadata": {},
     "output_type": "display_data"
    },
    {
     "name": "stdout",
     "output_type": "stream",
     "text": [
      "Epoch 0; Average Loss 5.0635\n",
      "Epoch 1; Average Loss 1.3335\n",
      "Epoch 2; Average Loss 1.1844\n",
      "Epoch 3; Average Loss 1.1782\n",
      "Epoch 4; Average Loss 1.1777\n"
     ]
    },
    {
     "data": {
      "application/vnd.jupyter.widget-view+json": {
       "model_id": "f87e1c89567d459c81936886aa00fea6",
       "version_major": 2,
       "version_minor": 0
      },
      "text/plain": [
       "HBox(children=(FloatProgress(value=1.0, bar_style='info', description='Calculating RMSE', max=1.0, style=Progr…"
      ]
     },
     "metadata": {},
     "output_type": "display_data"
    },
    {
     "name": "stdout",
     "output_type": "stream",
     "text": [
      "RMSE on 3 fold: 1.0898\n",
      "\n",
      "Training 4 fold\n"
     ]
    },
    {
     "data": {
      "application/vnd.jupyter.widget-view+json": {
       "model_id": "aeda82078ace41be960356e1b2077c0c",
       "version_major": 2,
       "version_minor": 0
      },
      "text/plain": [
       "HBox(children=(FloatProgress(value=0.0, max=401922030.0), HTML(value='')))"
      ]
     },
     "metadata": {},
     "output_type": "display_data"
    },
    {
     "name": "stdout",
     "output_type": "stream",
     "text": [
      "Epoch 0; Average Loss 5.0632\n",
      "Epoch 1; Average Loss 1.3334\n",
      "Epoch 2; Average Loss 1.1843\n",
      "Epoch 3; Average Loss 1.1781\n",
      "Epoch 4; Average Loss 1.1776\n"
     ]
    },
    {
     "data": {
      "application/vnd.jupyter.widget-view+json": {
       "model_id": "deb17079c87447e7b27a7a545b92d9e3",
       "version_major": 2,
       "version_minor": 0
      },
      "text/plain": [
       "HBox(children=(FloatProgress(value=1.0, bar_style='info', description='Calculating RMSE', max=1.0, style=Progr…"
      ]
     },
     "metadata": {},
     "output_type": "display_data"
    },
    {
     "name": "stdout",
     "output_type": "stream",
     "text": [
      "RMSE on 4 fold: 1.0900\n",
      "\n",
      "Training 5 fold\n"
     ]
    },
    {
     "data": {
      "application/vnd.jupyter.widget-view+json": {
       "model_id": "e3977e0fa21c4b5bba17a6f62497eb22",
       "version_major": 2,
       "version_minor": 0
      },
      "text/plain": [
       "HBox(children=(FloatProgress(value=0.0, max=401922030.0), HTML(value='')))"
      ]
     },
     "metadata": {},
     "output_type": "display_data"
    },
    {
     "name": "stdout",
     "output_type": "stream",
     "text": [
      "Epoch 0; Average Loss 5.0633\n",
      "Epoch 1; Average Loss 1.3333\n",
      "Epoch 2; Average Loss 1.1843\n",
      "Epoch 3; Average Loss 1.1781\n",
      "Epoch 4; Average Loss 1.1776\n"
     ]
    },
    {
     "data": {
      "application/vnd.jupyter.widget-view+json": {
       "model_id": "cf1e046d3839465f8abae6f58f67a8c0",
       "version_major": 2,
       "version_minor": 0
      },
      "text/plain": [
       "HBox(children=(FloatProgress(value=1.0, bar_style='info', description='Calculating RMSE', max=1.0, style=Progr…"
      ]
     },
     "metadata": {},
     "output_type": "display_data"
    },
    {
     "name": "stdout",
     "output_type": "stream",
     "text": [
      "RMSE on 5 fold: 1.0900\n",
      "\n"
     ]
    }
   ],
   "source": [
    "batch_size = 100000\n",
    "for i, (train_part, test_part) in enumerate(kfold(data), 1):\n",
    "    print(f\"Training {i} fold\")\n",
    "    fm = FactorizationMachine(n_users + n_movies, latent_size=5)\n",
    "    fm.train(train_part, batch_size=batch_size, lr=1e-3)\n",
    "    rmse = fm.rmse_score(test_part, batch_size=batch_size)\n",
    "    print(f\"RMSE on {i} fold: {rmse:.4f}\\n\")"
   ]
  },
  {
   "cell_type": "markdown",
   "metadata": {},
   "source": [
    "### Результаты\n",
    "\n",
    "| Folds | MSE Train Loss | RMSE Test Loss |\n",
    "|-------|----------------|----------------|\n",
    "| 1     | 1.1777         | 1.0898         |\n",
    "| 2     | 1.1777         | 1.0898         |\n",
    "| 3     | 1.1777         | 1.0898         |\n",
    "| 4     | 1.1776         | 1.0900         |\n",
    "| 5     | 1.1776         | 1.0900         |"
   ]
  }
 ],
 "metadata": {
  "kernelspec": {
   "display_name": "work",
   "language": "python",
   "name": "work"
  },
  "language_info": {
   "codemirror_mode": {
    "name": "ipython",
    "version": 3
   },
   "file_extension": ".py",
   "mimetype": "text/x-python",
   "name": "python",
   "nbconvert_exporter": "python",
   "pygments_lexer": "ipython3",
   "version": "3.6.8"
  }
 },
 "nbformat": 4,
 "nbformat_minor": 2
}
