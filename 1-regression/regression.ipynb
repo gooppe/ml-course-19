{
 "cells": [
  {
   "cell_type": "code",
   "execution_count": 1,
   "metadata": {},
   "outputs": [],
   "source": [
    "import numpy as np\n",
    "import pandas as pd\n",
    "from numpy import random\n",
    "\n",
    "import matplotlib.pyplot as plt\n",
    "from tqdm import tqdm_notebook\n",
    "\n",
    "train_data_file = \"./facebook_comment_volume/train.csv\"\n",
    "test_data_file = \"./facebook_comment_volume/test.csv\""
   ]
  },
  {
   "cell_type": "code",
   "execution_count": 2,
   "metadata": {},
   "outputs": [],
   "source": [
    "def train(x, y, lr=1e-4, max_iter=1000, batch_size=1024, shuffle=False, eps=1e-7):\n",
    "    def iter_data(x, y):\n",
    "        \"\"\"\n",
    "        Batchify dataset\n",
    "        \"\"\"\n",
    "        if shuffle:\n",
    "            rand_index = np.arange(len(x))\n",
    "            np.random.shuffle(rand_index)\n",
    "            x, y = x[rand_index], y[rand_index]\n",
    "        for i in range(0, len(x), batch_size):\n",
    "            span = slice(i, i + batch_size)\n",
    "            yield x[span], y[span]\n",
    "    \n",
    "    def grad_func(x, y, theta):\n",
    "        \"\"\"\n",
    "        Calculate gradient\n",
    "        \"\"\"\n",
    "        n, p = len(y), len(theta)\n",
    "        biased = np.ones((n, p))\n",
    "        biased[:, 1:] = x\n",
    "        y_ij = biased * theta\n",
    "        y_pred = y_ij.sum(-1)\n",
    "        mse = np.mean((y - y_pred) ** 2)\n",
    "        grad = - 2 / n * (y - y_pred) @ biased\n",
    "        return grad, mse\n",
    "\n",
    "    y = y.reshape(-1)\n",
    "    param_size = x.shape[1] + 1\n",
    "    assert len(y) == x.shape[0], \"Features and target sizes mismatch.\"\n",
    "    \n",
    "    # Initialize parameters\n",
    "    theta = np.random.rand(param_size)\n",
    "    \n",
    "    prev_error = 1e100\n",
    "    pbar = tqdm_notebook(range(max_iter), total=max_iter)\n",
    "    batches = len(x) // batch_size + 1\n",
    "    for _ in pbar:\n",
    "        cum_loss = 0\n",
    "        for x_batch, y_batch in iter_data(x, y):\n",
    "            # Gradient descend\n",
    "            grad, error = grad_func(x_batch, y_batch, theta)\n",
    "            theta = theta - lr * grad\n",
    "            if abs(prev_error - error) < eps:\n",
    "                break\n",
    "            prev_error = error\n",
    "            cum_loss += error\n",
    "        pbar.set_description(f\"Loss: {cum_loss/batches:.4f}\")\n",
    "    return theta"
   ]
  },
  {
   "cell_type": "code",
   "execution_count": 3,
   "metadata": {},
   "outputs": [],
   "source": [
    "def prediction(x, theta):\n",
    "    n, p = len(x), len(theta)\n",
    "    assert (n, p - 1) == x.shape, f\"Data and parameters sizes mismatch.\"\n",
    "    \n",
    "    biased = np.ones((n, p))\n",
    "    biased[:, 1:] = x\n",
    "    return biased @ theta"
   ]
  },
  {
   "cell_type": "code",
   "execution_count": 4,
   "metadata": {},
   "outputs": [],
   "source": [
    "def metrics(y, y_pred):\n",
    "    mse = np.mean((y - y_pred) ** 2)\n",
    "    rmse = np.sqrt(mse)\n",
    "    r2 = 1 - mse / np.var(y)\n",
    "    return rmse, r2\n",
    "\n",
    "def linear_normalization(train, *args):\n",
    "    t_min = train.min(axis=0, keepdims=True)\n",
    "    t_max = train.max(axis=0, keepdims=True)\n",
    "    t_s = (t_max - t_min)\n",
    "    t_s[t_s == 0] = 1\n",
    "    return tuple((part - t_min) / t_s for part in [train, *args])\n",
    "\n",
    "def standard_score_normalization(train, *args):\n",
    "    mean = train.mean(axis=0, keepdims=True)\n",
    "    std = train.std(axis=0, keepdims=True)\n",
    "    std[std == 0] = 1\n",
    "    return tuple((part-mean)/std for part in [train, *args])\n",
    "    "
   ]
  },
  {
   "cell_type": "code",
   "execution_count": 5,
   "metadata": {},
   "outputs": [],
   "source": [
    "def plot_2d(x, y, a, b):\n",
    "    x = x.reshape(-1)\n",
    "    y = y.reshape(-1)\n",
    "\n",
    "    plt.scatter(x, y)\n",
    "    plt.plot(x, b * x + a, c=\"r\")"
   ]
  },
  {
   "cell_type": "markdown",
   "metadata": {},
   "source": [
    "### Train model on dummy dataset"
   ]
  },
  {
   "cell_type": "code",
   "execution_count": 6,
   "metadata": {},
   "outputs": [
    {
     "data": {
      "application/vnd.jupyter.widget-view+json": {
       "model_id": "bbeca661956a4b4f9fa6d90bf9d534bb",
       "version_major": 2,
       "version_minor": 0
      },
      "text/plain": [
       "HBox(children=(IntProgress(value=0, max=1000), HTML(value='')))"
      ]
     },
     "metadata": {},
     "output_type": "display_data"
    },
    {
     "name": "stdout",
     "output_type": "stream",
     "text": [
      "\n"
     ]
    },
    {
     "data": {
      "image/png": "[encoded data removed]",
      "text/plain": [
       "<Figure size 432x288 with 1 Axes>"
      ]
     },
     "metadata": {
      "needs_background": "light"
     },
     "output_type": "display_data"
    }
   ],
   "source": [
    "n_samples = 100\n",
    "x = np.linspace(-100, 10, n_samples).reshape(-1, 1)\n",
    "weights = np.array([3.])\n",
    "y = x @ weights + 3 * np.random.randn(n_samples)\n",
    "x, = linear_normalization(x)\n",
    "x, = standard_score_normalization(x)\n",
    "\n",
    "theta = train(x, y, 1e-1)\n",
    "a, b = theta\n",
    "\n",
    "plot_2d(x, y, a, b)"
   ]
  },
  {
   "cell_type": "code",
   "execution_count": 7,
   "metadata": {},
   "outputs": [],
   "source": [
    "def kfold(x, k=5, shuffle=True):\n",
    "    index = np.arange(len(x))\n",
    "    if shuffle:\n",
    "        random.shuffle(index)\n",
    "    chunks = np.array_split(index, k)\n",
    "    for i in range(k):\n",
    "        train_index = np.concatenate(tuple(ch for j, ch in enumerate(chunks) if j != i))\n",
    "        test_index = chunks[i]\n",
    "        yield train_index, test_index"
   ]
  },
  {
   "cell_type": "markdown",
   "metadata": {},
   "source": [
    "### Train model with 5 folds on Facebook Comment Volume dataset"
   ]
  },
  {
   "cell_type": "code",
   "execution_count": 8,
   "metadata": {},
   "outputs": [
    {
     "data": {
      "application/vnd.jupyter.widget-view+json": {
       "model_id": "b4092739df9d49ba9553c274539e9d4a",
       "version_major": 2,
       "version_minor": 0
      },
      "text/plain": [
       "HBox(children=(IntProgress(value=0, max=1000), HTML(value='')))"
      ]
     },
     "metadata": {},
     "output_type": "display_data"
    },
    {
     "name": "stdout",
     "output_type": "stream",
     "text": [
      "\n",
      "Fold 1 | Train RMSE: 29.2607 | Test RMSE: 29.1673 | Train R2: 0.3394 | Test R2: 0.2367\n"
     ]
    },
    {
     "data": {
      "application/vnd.jupyter.widget-view+json": {
       "model_id": "04e3ab78b91946ddb6822d0149f0e666",
       "version_major": 2,
       "version_minor": 0
      },
      "text/plain": [
       "HBox(children=(IntProgress(value=0, max=1000), HTML(value='')))"
      ]
     },
     "metadata": {},
     "output_type": "display_data"
    },
    {
     "name": "stdout",
     "output_type": "stream",
     "text": [
      "\n",
      "Fold 2 | Train RMSE: 29.0271 | Test RMSE: 30.0833 | Train R2: 0.3175 | Test R2: 0.3348\n"
     ]
    },
    {
     "data": {
      "application/vnd.jupyter.widget-view+json": {
       "model_id": "b23e4b9c89c347a79f54f0c656ca0fc0",
       "version_major": 2,
       "version_minor": 0
      },
      "text/plain": [
       "HBox(children=(IntProgress(value=0, max=1000), HTML(value='')))"
      ]
     },
     "metadata": {},
     "output_type": "display_data"
    },
    {
     "name": "stdout",
     "output_type": "stream",
     "text": [
      "\n",
      "Fold 3 | Train RMSE: 29.1927 | Test RMSE: 32.4912 | Train R2: 0.3206 | Test R2: 0.1763\n"
     ]
    },
    {
     "data": {
      "application/vnd.jupyter.widget-view+json": {
       "model_id": "143ecf621d8e46eba8fce2e04c822736",
       "version_major": 2,
       "version_minor": 0
      },
      "text/plain": [
       "HBox(children=(IntProgress(value=0, max=1000), HTML(value='')))"
      ]
     },
     "metadata": {},
     "output_type": "display_data"
    },
    {
     "name": "stdout",
     "output_type": "stream",
     "text": [
      "\n",
      "Fold 4 | Train RMSE: 28.1090 | Test RMSE: 33.4309 | Train R2: 0.3355 | Test R2: 0.2757\n"
     ]
    },
    {
     "data": {
      "application/vnd.jupyter.widget-view+json": {
       "model_id": "89d19f290e3a40019ab7d3347d1287ae",
       "version_major": 2,
       "version_minor": 0
      },
      "text/plain": [
       "HBox(children=(IntProgress(value=0, max=1000), HTML(value='')))"
      ]
     },
     "metadata": {},
     "output_type": "display_data"
    },
    {
     "name": "stdout",
     "output_type": "stream",
     "text": [
      "\n",
      "Fold 5 | Train RMSE: 30.2533 | Test RMSE: 24.7858 | Train R2: 0.3093 | Test R2: 0.3846\n"
     ]
    }
   ],
   "source": [
    "df = pd.read_csv(train_data_file, header=None)\n",
    "x = df.values[:,:-1]\n",
    "y = df.values[:,-1]\n",
    "\n",
    "for i, (train_idx, test_idx) in enumerate(kfold(x)):\n",
    "    train_x, train_y = x[train_idx], y[train_idx]\n",
    "    test_x, test_y = x[test_idx], y[test_idx]\n",
    "    \n",
    "#     train_x, test_x = linear_normalization(train_x, test_x)\n",
    "    train_x, test_x = standard_score_normalization(train_x, test_x)\n",
    "    \n",
    "    theta = train(train_x, train_y, lr=0.001, shuffle=True)\n",
    "    train_pred_y = prediction(train_x, theta)\n",
    "    pred_y = prediction(test_x, theta)\n",
    "    \n",
    "    train_rmse, train_r2 = metrics(train_y, train_pred_y)\n",
    "    rmse, r2 = metrics(test_y, pred_y)\n",
    "    \n",
    "    print(f\"Fold {i + 1} | Train RMSE: {train_rmse:.4f} | Test RMSE: {rmse:.4f} | Train R2: {train_r2:.4f} | Test R2: {r2:.4f}\")\n"
   ]
  },
  {
   "cell_type": "markdown",
   "metadata": {},
   "source": [
    "### Train and test model on whole Facebook Comment Volume dataset"
   ]
  },
  {
   "cell_type": "code",
   "execution_count": 9,
   "metadata": {},
   "outputs": [
    {
     "data": {
      "application/vnd.jupyter.widget-view+json": {
       "model_id": "5ad0bb99e43b44199f081aa88cc07595",
       "version_major": 2,
       "version_minor": 0
      },
      "text/plain": [
       "HBox(children=(IntProgress(value=0, max=1000), HTML(value='')))"
      ]
     },
     "metadata": {},
     "output_type": "display_data"
    },
    {
     "name": "stdout",
     "output_type": "stream",
     "text": [
      "\n",
      "Train RMSE: 29.2190 | Test RMSE: 107.0084 | Train R2: 0.3223 | Test R2: 0.1346\n"
     ]
    }
   ],
   "source": [
    "test_df = pd.read_csv(test_data_file, header=None)\n",
    "test_x = test_df.values[:,:-1]\n",
    "test_y = test_df.values[:,-1]\n",
    "\n",
    "# train_x, test_x = linear_normalization(x, test_x)\n",
    "train_x, test_x = standard_score_normalization(x, test_x)\n",
    "\n",
    "params = train(train_x, y, lr=0.001, shuffle=True)\n",
    "train_pred_y = prediction(train_x, params)\n",
    "pred_y = prediction(test_x, params)\n",
    "train_rmse, train_r2 = metrics(y, train_pred_y)\n",
    "rmse, r2 = metrics(test_y, pred_y)\n",
    "\n",
    "print(f\"Train RMSE: {train_rmse:.4f} | Test RMSE: {rmse:.4f} | Train R2: {train_r2:.4f} | Test R2: {r2:.4f}\")"
   ]
  }
 ],
 "metadata": {
  "kernelspec": {
   "display_name": "interactive",
   "language": "python",
   "name": "interactive"
  },
  "language_info": {
   "codemirror_mode": {
    "name": "ipython",
    "version": 3
   },
   "file_extension": ".py",
   "mimetype": "text/x-python",
   "name": "python",
   "nbconvert_exporter": "python",
   "pygments_lexer": "ipython3",
   "version": "3.7.3"
  }
 },
 "nbformat": 4,
 "nbformat_minor": 2
}
