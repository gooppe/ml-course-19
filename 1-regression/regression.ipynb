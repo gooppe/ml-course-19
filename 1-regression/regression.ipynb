{
 "cells": [
  {
   "cell_type": "code",
   "execution_count": 1,
   "metadata": {},
   "outputs": [],
   "source": [
    "import numpy as np\n",
    "import pandas as pd\n",
    "from numpy import random\n",
    "\n",
    "import matplotlib.pyplot as plt\n",
    "from tqdm import tqdm\n",
    "\n",
    "train_data_file = \"./facebook_comment_volume/train.csv\"\n",
    "test_data_file = \"./facebook_comment_volume/test.csv\""
   ]
  },
  {
   "cell_type": "code",
   "execution_count": 2,
   "metadata": {},
   "outputs": [],
   "source": [
    "def train(x, y, lr=1e-4, max_iter=1000, batch_size=1024, shuffle=False, eps=1e-5):\n",
    "    def iter_data(x, y):\n",
    "        \"\"\"\n",
    "        Batchify dataset\n",
    "        \"\"\"\n",
    "        if shuffle:\n",
    "            rand_index = np.arange(len(x))\n",
    "            np.random.shuffle(rand_index)\n",
    "            x, y = x[rand_index], y[rand_index]\n",
    "        for i in range(0, len(x), batch_size):\n",
    "            span = slice(i, i + batch_size)\n",
    "            yield x[span], y[span]\n",
    "    \n",
    "    def grad_func(x, y, theta):\n",
    "        \"\"\"\n",
    "        Calculate gradient\n",
    "        \"\"\"\n",
    "        n, p = len(y), len(theta)\n",
    "        biased = np.ones((n, p))\n",
    "        biased[:, 1:] = x\n",
    "        y_ij = biased * theta\n",
    "        y_pred = y_ij.sum(-1)\n",
    "        mse = np.mean((y - y_pred) ** 2)\n",
    "        grad = - 2 / n * (y - y_pred) @ biased\n",
    "        return grad, mse\n",
    "\n",
    "    y = y.reshape(-1)\n",
    "    param_size = x.shape[1] + 1\n",
    "    assert len(y) == x.shape[0], \"Features and target sizes mismatch.\"\n",
    "    \n",
    "    # Initialize parameters\n",
    "    theta = np.random.rand(param_size)\n",
    "    \n",
    "    prev_error = 1e100\n",
    "    pbar = tqdm(range(max_iter), total=max_iter)\n",
    "    batches = len(x) // batch_size + 1\n",
    "    for _ in pbar:\n",
    "        cum_loss = 0\n",
    "        for x_batch, y_batch in iter_data(x, y):\n",
    "            # Gradient descend\n",
    "            grad, error = grad_func(x_batch, y_batch, theta)\n",
    "            theta = theta - lr * grad\n",
    "            if np.linalg.norm(grad) < eps:\n",
    "                break\n",
    "            prev_error = error\n",
    "            cum_loss += error\n",
    "        pbar.set_description(f\"Loss: {cum_loss/batches:.4f}\")\n",
    "    return theta"
   ]
  },
  {
   "cell_type": "code",
   "execution_count": 3,
   "metadata": {},
   "outputs": [],
   "source": [
    "def prediction(x, theta):\n",
    "    n, p = len(x), len(theta)\n",
    "    assert (n, p - 1) == x.shape, f\"Data and parameters sizes mismatch.\"\n",
    "    \n",
    "    biased = np.ones((n, p))\n",
    "    biased[:, 1:] = x\n",
    "    return biased @ theta"
   ]
  },
  {
   "cell_type": "code",
   "execution_count": 4,
   "metadata": {},
   "outputs": [],
   "source": [
    "def metrics(y, y_pred):\n",
    "    mse = np.mean((y - y_pred) ** 2)\n",
    "    rmse = np.sqrt(mse)\n",
    "    r2 = 1 - mse / np.var(y)\n",
    "    return rmse, r2\n",
    "\n",
    "def linear_normalization(train, *args):\n",
    "    t_min = train.min(axis=0, keepdims=True)\n",
    "    t_max = train.max(axis=0, keepdims=True)\n",
    "    t_s = (t_max - t_min)\n",
    "    t_s[t_s == 0] = 1\n",
    "    return tuple((part - t_min) / t_s for part in [train, *args])\n",
    "\n",
    "def standard_score_normalization(train, *args):\n",
    "    mean = train.mean(axis=0, keepdims=True)\n",
    "    std = train.std(axis=0, keepdims=True)\n",
    "    std[std == 0] = 1\n",
    "    return tuple((part-mean)/std for part in [train, *args])\n",
    "    "
   ]
  },
  {
   "cell_type": "code",
   "execution_count": 5,
   "metadata": {},
   "outputs": [],
   "source": [
    "def plot_2d(x, y, a, b):\n",
    "    x = x.reshape(-1)\n",
    "    y = y.reshape(-1)\n",
    "\n",
    "    plt.scatter(x, y)\n",
    "    plt.plot(x, b * x + a, c=\"r\")"
   ]
  },
  {
   "cell_type": "markdown",
   "metadata": {},
   "source": [
    "### Train model on dummy dataset"
   ]
  },
  {
   "cell_type": "code",
   "execution_count": 6,
   "metadata": {},
   "outputs": [
    {
     "name": "stderr",
     "output_type": "stream",
     "text": [
      "Loss: 0.0000: 100%|██████████| 1000/1000 [00:01<00:00, 583.25it/s]\n"
     ]
    },
    {
     "data": {
      "image/png": "[encoded data removed]",
      "text/plain": [
       "<Figure size 432x288 with 1 Axes>"
      ]
     },
     "metadata": {
      "needs_background": "light"
     },
     "output_type": "display_data"
    }
   ],
   "source": [
    "n_samples = 100\n",
    "x = np.linspace(-100, 10, n_samples).reshape(-1, 1)\n",
    "weights = np.array([3.])\n",
    "y = x @ weights + 3 * np.random.randn(n_samples)\n",
    "x, = linear_normalization(x)\n",
    "x, = standard_score_normalization(x)\n",
    "\n",
    "theta = train(x, y, 1e-1)\n",
    "a, b = theta\n",
    "\n",
    "plot_2d(x, y, a, b)"
   ]
  },
  {
   "cell_type": "code",
   "execution_count": 7,
   "metadata": {},
   "outputs": [],
   "source": [
    "def kfold(x, k=5, shuffle=True):\n",
    "    index = np.arange(len(x))\n",
    "    if shuffle:\n",
    "        random.shuffle(index)\n",
    "    chunks = np.array_split(index, k)\n",
    "    for i in range(k):\n",
    "        train_index = np.concatenate(tuple(ch for j, ch in enumerate(chunks) if j != i))\n",
    "        test_index = chunks[i]\n",
    "        yield train_index, test_index"
   ]
  },
  {
   "cell_type": "markdown",
   "metadata": {},
   "source": [
    "### Train model with 5 folds on Facebook Comment Volume dataset"
   ]
  },
  {
   "cell_type": "code",
   "execution_count": 9,
   "metadata": {},
   "outputs": [
    {
     "name": "stderr",
     "output_type": "stream",
     "text": [
      "Loss: 816.3795: 100%|██████████| 1000/1000 [00:26<00:00, 38.11it/s]\n",
      "Loss: 876.2057: 100%|██████████| 1000/1000 [00:27<00:00, 36.01it/s]\n",
      "Loss: 858.6230: 100%|██████████| 1000/1000 [00:28<00:00, 35.62it/s]\n",
      "Loss: 860.9747: 100%|██████████| 1000/1000 [00:27<00:00, 35.86it/s]\n",
      "Loss: 851.4017: 100%|██████████| 1000/1000 [00:28<00:00, 34.58it/s]\n"
     ]
    },
    {
     "data": {
      "text/html": [
       "<div>\n",
       "<style scoped>\n",
       "    .dataframe tbody tr th:only-of-type {\n",
       "        vertical-align: middle;\n",
       "    }\n",
       "\n",
       "    .dataframe tbody tr th {\n",
       "        vertical-align: top;\n",
       "    }\n",
       "\n",
       "    .dataframe thead th {\n",
       "        text-align: right;\n",
       "    }\n",
       "</style>\n",
       "<table border=\"1\" class=\"dataframe\">\n",
       "  <thead>\n",
       "    <tr style=\"text-align: right;\">\n",
       "      <th></th>\n",
       "      <th>Train RMSE</th>\n",
       "      <th>Test RMSE</th>\n",
       "      <th>Train R2</th>\n",
       "      <th>Test R2</th>\n",
       "    </tr>\n",
       "  </thead>\n",
       "  <tbody>\n",
       "    <tr>\n",
       "      <th>Fold 1</th>\n",
       "      <td>28.562181</td>\n",
       "      <td>32.576515</td>\n",
       "      <td>0.339109</td>\n",
       "      <td>0.220595</td>\n",
       "    </tr>\n",
       "    <tr>\n",
       "      <th>Fold 2</th>\n",
       "      <td>29.591816</td>\n",
       "      <td>27.797624</td>\n",
       "      <td>0.319863</td>\n",
       "      <td>0.327577</td>\n",
       "    </tr>\n",
       "    <tr>\n",
       "      <th>Fold 3</th>\n",
       "      <td>29.289406</td>\n",
       "      <td>29.457174</td>\n",
       "      <td>0.320850</td>\n",
       "      <td>0.303878</td>\n",
       "    </tr>\n",
       "    <tr>\n",
       "      <th>Fold 4</th>\n",
       "      <td>29.336425</td>\n",
       "      <td>28.848038</td>\n",
       "      <td>0.325438</td>\n",
       "      <td>0.304073</td>\n",
       "    </tr>\n",
       "    <tr>\n",
       "      <th>Fold 5</th>\n",
       "      <td>29.169444</td>\n",
       "      <td>29.531302</td>\n",
       "      <td>0.312874</td>\n",
       "      <td>0.352072</td>\n",
       "    </tr>\n",
       "    <tr>\n",
       "      <th>Mean</th>\n",
       "      <td>29.189854</td>\n",
       "      <td>29.642131</td>\n",
       "      <td>0.323627</td>\n",
       "      <td>0.301639</td>\n",
       "    </tr>\n",
       "    <tr>\n",
       "      <th>Std</th>\n",
       "      <td>0.342741</td>\n",
       "      <td>1.593103</td>\n",
       "      <td>0.008723</td>\n",
       "      <td>0.044261</td>\n",
       "    </tr>\n",
       "  </tbody>\n",
       "</table>\n",
       "</div>"
      ],
      "text/plain": [
       "        Train RMSE  Test RMSE  Train R2   Test R2\n",
       "Fold 1   28.562181  32.576515  0.339109  0.220595\n",
       "Fold 2   29.591816  27.797624  0.319863  0.327577\n",
       "Fold 3   29.289406  29.457174  0.320850  0.303878\n",
       "Fold 4   29.336425  28.848038  0.325438  0.304073\n",
       "Fold 5   29.169444  29.531302  0.312874  0.352072\n",
       "Mean     29.189854  29.642131  0.323627  0.301639\n",
       "Std       0.342741   1.593103  0.008723  0.044261"
      ]
     },
     "execution_count": 9,
     "metadata": {},
     "output_type": "execute_result"
    }
   ],
   "source": [
    "df = pd.read_csv(train_data_file, header=None)\n",
    "x = df.values[:,:-1]\n",
    "y = df.values[:,-1]\n",
    "\n",
    "metric_log = []\n",
    "\n",
    "for i, (train_idx, test_idx) in enumerate(kfold(x)):\n",
    "    train_x, train_y = x[train_idx], y[train_idx]\n",
    "    test_x, test_y = x[test_idx], y[test_idx]\n",
    "    \n",
    "    train_x, test_x = standard_score_normalization(train_x, test_x)\n",
    "    \n",
    "    # Train model and make predictions for Train and Test parts.\n",
    "    theta = train(train_x, train_y, lr=0.001, shuffle=True)\n",
    "    train_pred_y = prediction(train_x, theta)\n",
    "    pred_y = prediction(test_x, theta)\n",
    "    \n",
    "    # Calculate metrics for Train and Test predictions.\n",
    "    train_rmse, train_r2 = metrics(train_y, train_pred_y)\n",
    "    rmse, r2 = metrics(test_y, pred_y)\n",
    "    \n",
    "    metric_log.append([train_rmse, rmse, train_r2, r2])\n",
    "\n",
    "mean = np.mean(metric_log, axis=0)\n",
    "std = np.std(metric_log, axis=0)\n",
    "\n",
    "df = pd.DataFrame(np.array(metric_log + [mean] + [std]),\n",
    "                  columns=[\"Train RMSE\", \"Test RMSE\", \"Train R2\", \"Test R2\"],\n",
    "                  index=[f\"Fold {i+1}\" for i in range(len(metric_log))] + [\"Mean\"] + [\"Std\"])\n",
    "df"
   ]
  }
 ],
 "metadata": {
  "kernelspec": {
   "display_name": "interactive",
   "language": "python",
   "name": "interactive"
  },
  "language_info": {
   "codemirror_mode": {
    "name": "ipython",
    "version": 3
   },
   "file_extension": ".py",
   "mimetype": "text/x-python",
   "name": "python",
   "nbconvert_exporter": "python",
   "pygments_lexer": "ipython3",
   "version": "3.6.7"
  }
 },
 "nbformat": 4,
 "nbformat_minor": 2
}
